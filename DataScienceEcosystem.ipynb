{
 "cells": [
  {
   "cell_type": "markdown",
   "id": "6720d21a",
   "metadata": {},
   "source": [
    "# Data Science Tools and Ecosystem"
   ]
  },
  {
   "cell_type": "markdown",
   "id": "99e838c2",
   "metadata": {},
   "source": [
    "In this notebook, Data Science Tools and Ecosystem are summarized."
   ]
  },
  {
   "cell_type": "markdown",
   "id": "9411afad",
   "metadata": {},
   "source": [
    "In this notebook, Data science Tools and ecosystem are summarized.\n",
    "1. Keras\n",
    "2. Panda\n",
    "3. pytorch\n",
    "4. Seaborn\n",
    "5. TensorFlow"
   ]
  },
  {
   "cell_type": "markdown",
   "id": "ad41372e",
   "metadata": {},
   "source": [
    "|No|Data science tools|\n",
    "|-----|---------------|\n",
    "|1|Hue                |\n",
    "|2|kibana             |\n",
    "|3|Mleap              |\n",
    "|4|Apache atlas       |"
   ]
  },
  {
   "cell_type": "code",
   "execution_count": 2,
   "id": "f249314b",
   "metadata": {},
   "outputs": [
    {
     "data": {
      "text/plain": [
       "20"
      ]
     },
     "execution_count": 2,
     "metadata": {},
     "output_type": "execute_result"
    }
   ],
   "source": [
    "17+3"
   ]
  },
  {
   "cell_type": "code",
   "execution_count": 5,
   "id": "961bafd8",
   "metadata": {},
   "outputs": [
    {
     "data": {
      "text/plain": [
       "17"
      ]
     },
     "execution_count": 5,
     "metadata": {},
     "output_type": "execute_result"
    }
   ],
   "source": [
    "#This a simple arithmetic exprssion to multiply then add integers.\n",
    "(8*2)+1"
   ]
  },
  {
   "cell_type": "code",
   "execution_count": 6,
   "id": "c283cff2",
   "metadata": {},
   "outputs": [
    {
     "data": {
      "text/plain": [
       "3.3333333333333335"
      ]
     },
     "execution_count": 6,
     "metadata": {},
     "output_type": "execute_result"
    }
   ],
   "source": [
    "#This will convert 200 minutes to hours by dividing by 60\n",
    "200/60"
   ]
  },
  {
   "cell_type": "markdown",
   "id": "519ebcf8",
   "metadata": {},
   "source": [
    "In this notebook, Data Science  Tools and Ecosystem are summarized.\n",
    "\n",
    "**Objectives:**\n",
    "\n",
    "* python.\n",
    "* SQL.\n",
    "* Julia.\n",
    "* R.\n",
    "\n"
   ]
  },
  {
   "cell_type": "markdown",
   "id": "15910c7c",
   "metadata": {},
   "source": [
    "Author: Samuel Gateri"
   ]
  }
 ],
 "metadata": {
  "kernelspec": {
   "display_name": "Python 3 (ipykernel)",
   "language": "python",
   "name": "python3"
  },
  "language_info": {
   "codemirror_mode": {
    "name": "ipython",
    "version": 3
   },
   "file_extension": ".py",
   "mimetype": "text/x-python",
   "name": "python",
   "nbconvert_exporter": "python",
   "pygments_lexer": "ipython3",
   "version": "3.9.12"
  }
 },
 "nbformat": 4,
 "nbformat_minor": 5
}
